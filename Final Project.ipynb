import pandas as pd
import numpy as np
from sklearn import datasets
from sklearn.tree import DecisionTreeClassifier
from sklearn.model_selection import train_test_split
from sklearn.metrics import accuracy_score
from sklearn.preprocessing import OneHotEncoder
from sklearn.tree import DecisionTreeClassifier
from sklearn.tree import export_graphviz
from sklearn import tree
from sklearn import preprocessing
from sklearn.linear_model import LinearRegression
from sklearn import svm 
mport matplotlib.pyplot as plt

data = pd.read_csv('BlackFriday.csv')
cleanup_nums = {'Gender':{'M': 1, "F": 2},
               'Age': {'0-17': 0, '18-25': 1, '26-35': 2, '36-45': 3, '46-50': 4,'51-55': 5, '55+': 5}}    
data.replace(cleanup_nums, inplace=True)
data = data.drop(['User_ID','Product_ID','City_Category','Stay_In_Current_City_Years'
                 ,'Product_Category_1','Product_Category_2','Product_Category_3'],axis =1)
y = data['Purchase']
X = data.drop('Purchase', axis=1)
X_train, X_test, y_train, y_test = train_test_split(X, y, test_size=0.15, random_state=42)
model=tree.DecisionTreeClassifier()
model=model.fit(X_train,y_train)
model.score(X_test,y_test)

bar1 = 0
bar2 = 0
bar3 = 0
bar4 = 0
bar5 = 0
bar6 = 0
bar7 =0

for val in (data['Age']):
    if(val==0):
        bar1+=1
    if(val==1):
        bar2+=1
    if(val==2):
        bar3+=1
    if(val==3):
        bar4+=1
    if(val==4):
        bar5+=1
    if(val==5):
        bar6+=1
        bar7+=1
        

plt.bar([0,1,2,3,4,5,6],[bar1,bar2,bar3,bar4,bar5,bar6,bar7], align = 'center')

plt.title('Age Divisions Graph')

plt.xticks([0,1,2,3,4,5,6],['0-17', '18-25','26-35','36-45','46-50','51-55','55+'])

plt.ylabel('Number of each age category')

plt.show()
