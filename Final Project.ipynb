{
 "cells": [
  {
   "cell_type": "code",
   "execution_count": null,
   "metadata": {},
   "outputs": [],
   "source": [
    "import pandas as pd\n",
    "import numpy as np\n",
    "from sklearn import datasets\n",
    "from sklearn.tree import DecisionTreeClassifier\n",
    "from sklearn.model_selection import train_test_split\n",
    "from sklearn.metrics import accuracy_score\n",
    "from sklearn.preprocessing import OneHotEncoder\n",
    "from sklearn.tree import DecisionTreeClassifier\n",
    "from sklearn.tree import export_graphviz\n",
    "from sklearn import tree\n",
    "from sklearn import preprocessing\n",
    "from sklearn.linear_model import LinearRegression\n",
    "\n",
    "\n",
    "\n",
    "data = pd.read_csv('BlackFriday.csv')\n",
    "y = data['Purchase']\n",
    "gender = []\n",
    "i = 0\n",
    "\n",
    "for index in data['Gender']:\n",
    "    if (index == 'M'):\n",
    "        gender.append(1)\n",
    "    else: \n",
    "        gender.append(0)\n",
    "    i += 1\n",
    "age = []\n",
    "for index in data['Age']:\n",
    "    if(index == '0-17'):\n",
    "        age.append(0)\n",
    "    elif(index == '18-25'):\n",
    "        age.append(1)\n",
    "    elif(index == '26-35'):\n",
    "        age.append(2)\n",
    "    elif(index == '36-45'):\n",
    "        age.append(3)\n",
    "    elif(index == '46-50'):\n",
    "        age.append(4)\n",
    "    elif(index == '51-55'):\n",
    "        age.append(5)\n",
    "    else:\n",
    "        age.append(6)\n",
    "gender = np.array(gender).reshape(-1,1)\n",
    "age = np.array(age).reshape(-1,1)\n",
    "X_train, X_test, y_train, y_test = train_test_split(age, y, test_size=0.33, random_state=42)\n",
    "model=tree.DecisionTreeClassifier()\n",
    "model=model.fit(X_train,y_train)\n",
    "model.score(X_test,y_test)\n"
   ]
  },
  {
   "cell_type": "markdown",
   "metadata": {},
   "source": []
  }
 ],
 "metadata": {
  "kernelspec": {
   "display_name": "Python 3",
   "language": "python",
   "name": "python3"
  },
  "language_info": {
   "codemirror_mode": {
    "name": "ipython",
    "version": 3
   },
   "file_extension": ".py",
   "mimetype": "text/x-python",
   "name": "python",
   "nbconvert_exporter": "python",
   "pygments_lexer": "ipython3",
   "version": "3.6.5"
  }
 },
 "nbformat": 4,
 "nbformat_minor": 2
}
