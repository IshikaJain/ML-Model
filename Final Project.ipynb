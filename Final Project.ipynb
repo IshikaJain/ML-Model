import pandas as pd
import numpy as np
from sklearn import datasets
from sklearn.tree import DecisionTreeClassifier
from sklearn.model_selection import train_test_split
from sklearn.metrics import accuracy_score
from sklearn.preprocessing import OneHotEncoder
from sklearn.tree import DecisionTreeClassifier
from sklearn.tree import export_graphviz
from sklearn import tree
from sklearn import preprocessing
from sklearn.linear_model import LinearRegression
from sklearn import svm 

data = pd.read_csv('BlackFriday.csv')
cleanup_nums = {'Gender':{'M': 1, "F": 2},
               'Age': {'0-17': 0, '18-25': 1, '26-35': 2, '36-45': 3, '46-50': 4,'51-55': 5, '55+': 5}}    
data.replace(cleanup_nums, inplace=True)
data = data.drop(['User_ID','Product_ID','City_Category','Stay_In_Current_City_Years'
                 ,'Product_Category_1','Product_Category_2','Product_Category_3'],axis =1)
y = data['Purchase']
X = data.drop('Purchase', axis=1)
X_train, X_test, y_train, y_test = train_test_split(X, y, test_size=0.2, random_state=42)
